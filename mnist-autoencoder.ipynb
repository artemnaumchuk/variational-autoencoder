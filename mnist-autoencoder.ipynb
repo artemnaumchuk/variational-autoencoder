{
 "cells": [
  {
   "cell_type": "code",
   "execution_count": 28,
   "metadata": {
    "collapsed": true
   },
   "outputs": [],
   "source": [
    "import numpy as np\n",
    "import tensorflow as tf\n",
    "import matplotlib.pyplot as plt\n",
    "from tensorflow.examples.tutorials.mnist import input_data"
   ]
  },
  {
   "cell_type": "code",
   "execution_count": 29,
   "metadata": {},
   "outputs": [
    {
     "name": "stdout",
     "output_type": "stream",
     "text": [
      "Extracting /tmp/data/train-images-idx3-ubyte.gz\n",
      "Extracting /tmp/data/train-labels-idx1-ubyte.gz\n",
      "Extracting /tmp/data/t10k-images-idx3-ubyte.gz\n",
      "Extracting /tmp/data/t10k-labels-idx1-ubyte.gz\n"
     ]
    }
   ],
   "source": [
    "# mnist dataset\n",
    "mnist = input_data.read_data_sets('/tmp/data', one_hot=True)"
   ]
  },
  {
   "cell_type": "code",
   "execution_count": 30,
   "metadata": {
    "collapsed": true
   },
   "outputs": [],
   "source": [
    "n_pixels = 28*28\n",
    "\n",
    "# input the images\n",
    "X = tf.placeholder(tf.float32, shape=([None, n_pixels]))"
   ]
  },
  {
   "cell_type": "code",
   "execution_count": 31,
   "metadata": {
    "collapsed": true
   },
   "outputs": [],
   "source": [
    "def weight_variables(shape, name):\n",
    "    initial = tf.truncated_normal(shape, stddev=0.1)\n",
    "    return tf.Variable(initial, name=name)\n",
    "\n",
    "def bias_variables(shape, name):\n",
    "    initial = tf.truncated_normal(shape, stddev=0.1)\n",
    "    return tf.Variable(initial, name=name)\n",
    "\n",
    "\n",
    "def FC_layer(X, W, b):\n",
    "    return tf.matmul(X, W) + b\n",
    "\n"
   ]
  },
  {
   "cell_type": "code",
   "execution_count": 32,
   "metadata": {},
   "outputs": [],
   "source": [
    "# Encoder\n",
    "\n",
    "latent_dim = 20\n",
    "hidden_dim = 500\n",
    "\n",
    "#layer 1\n",
    "W_enc = weight_variables([n_pixels, hidden_dim], 'W_enc')\n",
    "b_enc = bias_variables([hidden_dim], 'b_enc')\n",
    "#tanh activation\n",
    "h_enc = tf.nn.tanh(FC_layer(X, W_enc, b_enc))\n",
    "\n",
    "# mean layer 2\n",
    "W_mu = weight_variables([hidden_dim, latent_dim], 'W_mu')\n",
    "b_mu = bias_variables([latent_dim], 'b_mu')\n",
    "mu = FC_layer(h_enc, W_mu, b_mu)\n",
    "\n",
    "\n",
    "#std deviation\n",
    "W_logstd = weight_variables([hidden_dim, latent_dim], 'W_logstd')\n",
    "b_logstd = bias_variables([latent_dim], 'b_logstd')\n",
    "logstd = FC_layer(h_enc, W_logstd, b_logstd)\n",
    "\n",
    "# Randomness\n",
    "noise =tf.random_normal([1, latent_dim])\n",
    "\n",
    "# Z\n",
    "z = mu + tf.multiply(noise, tf.exp(.5*logstd))\n",
    "\n"
   ]
  },
  {
   "cell_type": "code",
   "execution_count": 33,
   "metadata": {},
   "outputs": [],
   "source": [
    "# Decoder\n",
    "\n",
    "#layer 1\n",
    "W_dec = weight_variables([latent_dim, hidden_dim], 'W_dec')\n",
    "b_dec = bias_variables([hidden_dim], 'b_dec')\n",
    "#tanh activation\n",
    "h_dec = tf.nn.tanh(FC_layer(z, W_dec, b_dec))\n",
    "\n",
    "\n",
    "#layer 2\n",
    "W_rec = weight_variables([hidden_dim, n_pixels], 'W_rec')\n",
    "b_rec = bias_variables([n_pixels], 'b_rec')\n",
    "#sigmoid activation\n",
    "reconstruction = tf.nn.sigmoid(FC_layer(h_dec, W_rec, b_rec))\n",
    "\n"
   ]
  }
 ],
 "metadata": {
  "kernelspec": {
   "display_name": "Python [conda root]",
   "language": "python",
   "name": "conda-root-py"
  },
  "language_info": {
   "codemirror_mode": {
    "name": "ipython",
    "version": 2
   },
   "file_extension": ".py",
   "mimetype": "text/x-python",
   "name": "python",
   "nbconvert_exporter": "python",
   "pygments_lexer": "ipython2",
   "version": "2.7.13"
  }
 },
 "nbformat": 4,
 "nbformat_minor": 2
}
